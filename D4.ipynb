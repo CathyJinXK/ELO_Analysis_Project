{
 "cells": [
  {
   "cell_type": "code",
   "execution_count": 92,
   "metadata": {},
   "outputs": [],
   "source": [
    "import pandas as pd"
   ]
  },
  {
   "cell_type": "code",
   "execution_count": 2,
   "metadata": {},
   "outputs": [],
   "source": [
    "import numpy as np"
   ]
  },
  {
   "cell_type": "code",
   "execution_count": 3,
   "metadata": {},
   "outputs": [],
   "source": [
    "train = pd.read_csv('train_pred.csv')"
   ]
  },
  {
   "cell_type": "code",
   "execution_count": 4,
   "metadata": {},
   "outputs": [],
   "source": [
    "test = pd.read_csv('test_pred.csv')"
   ]
  },
  {
   "cell_type": "code",
   "execution_count": 5,
   "metadata": {},
   "outputs": [
    {
     "data": {
      "text/plain": [
       "(201917, 1743)"
      ]
     },
     "execution_count": 5,
     "metadata": {},
     "output_type": "execute_result"
    }
   ],
   "source": [
    "train.shape #Overview"
   ]
  },
  {
   "cell_type": "code",
   "execution_count": 6,
   "metadata": {},
   "outputs": [],
   "source": [
    "train = train.iloc[:,1:] #Remove 1st column"
   ]
  },
  {
   "cell_type": "code",
   "execution_count": 7,
   "metadata": {},
   "outputs": [
    {
     "data": {
      "text/html": [
       "<div>\n",
       "<style scoped>\n",
       "    .dataframe tbody tr th:only-of-type {\n",
       "        vertical-align: middle;\n",
       "    }\n",
       "\n",
       "    .dataframe tbody tr th {\n",
       "        vertical-align: top;\n",
       "    }\n",
       "\n",
       "    .dataframe thead th {\n",
       "        text-align: right;\n",
       "    }\n",
       "</style>\n",
       "<table border=\"1\" class=\"dataframe\">\n",
       "  <thead>\n",
       "    <tr style=\"text-align: right;\">\n",
       "      <th></th>\n",
       "      <th>first_active_month</th>\n",
       "      <th>card_id</th>\n",
       "      <th>feature_1</th>\n",
       "      <th>feature_2</th>\n",
       "      <th>feature_3</th>\n",
       "      <th>target</th>\n",
       "      <th>authorized_flag&amp;1&amp;purchase_amount</th>\n",
       "      <th>authorized_flag&amp;1&amp;installments</th>\n",
       "      <th>city_id&amp;19&amp;purchase_amount</th>\n",
       "      <th>city_id&amp;19&amp;installments</th>\n",
       "      <th>...</th>\n",
       "      <th>category_4_var</th>\n",
       "      <th>category_4_skew</th>\n",
       "      <th>category_4_sum</th>\n",
       "      <th>city_id_nunique</th>\n",
       "      <th>merchant_category_id_nunique</th>\n",
       "      <th>merchant_id_nunique</th>\n",
       "      <th>state_id_nunique</th>\n",
       "      <th>subsector_id_nunique</th>\n",
       "      <th>card_id_size</th>\n",
       "      <th>card_id_count</th>\n",
       "    </tr>\n",
       "  </thead>\n",
       "  <tbody>\n",
       "    <tr>\n",
       "      <th>0</th>\n",
       "      <td>67</td>\n",
       "      <td>C_ID_92a2005557</td>\n",
       "      <td>5</td>\n",
       "      <td>2</td>\n",
       "      <td>1</td>\n",
       "      <td>-0.820283</td>\n",
       "      <td>-170.641218</td>\n",
       "      <td>0.0</td>\n",
       "      <td>-1.422815</td>\n",
       "      <td>0.0</td>\n",
       "      <td>...</td>\n",
       "      <td>0.054623</td>\n",
       "      <td>-3.811953</td>\n",
       "      <td>261.0</td>\n",
       "      <td>9</td>\n",
       "      <td>46</td>\n",
       "      <td>118</td>\n",
       "      <td>3</td>\n",
       "      <td>21</td>\n",
       "      <td>283</td>\n",
       "      <td>283</td>\n",
       "    </tr>\n",
       "    <tr>\n",
       "      <th>1</th>\n",
       "      <td>62</td>\n",
       "      <td>C_ID_3d0044924f</td>\n",
       "      <td>4</td>\n",
       "      <td>1</td>\n",
       "      <td>0</td>\n",
       "      <td>0.392913</td>\n",
       "      <td>-213.239185</td>\n",
       "      <td>507.0</td>\n",
       "      <td>-4.782308</td>\n",
       "      <td>7.0</td>\n",
       "      <td>...</td>\n",
       "      <td>0.075036</td>\n",
       "      <td>-3.073118</td>\n",
       "      <td>327.0</td>\n",
       "      <td>9</td>\n",
       "      <td>58</td>\n",
       "      <td>148</td>\n",
       "      <td>3</td>\n",
       "      <td>24</td>\n",
       "      <td>356</td>\n",
       "      <td>356</td>\n",
       "    </tr>\n",
       "    <tr>\n",
       "      <th>2</th>\n",
       "      <td>57</td>\n",
       "      <td>C_ID_d639edf6cd</td>\n",
       "      <td>2</td>\n",
       "      <td>2</td>\n",
       "      <td>0</td>\n",
       "      <td>0.688056</td>\n",
       "      <td>-28.528749</td>\n",
       "      <td>0.0</td>\n",
       "      <td>-0.705405</td>\n",
       "      <td>0.0</td>\n",
       "      <td>...</td>\n",
       "      <td>0.065011</td>\n",
       "      <td>-3.548480</td>\n",
       "      <td>41.0</td>\n",
       "      <td>5</td>\n",
       "      <td>9</td>\n",
       "      <td>14</td>\n",
       "      <td>2</td>\n",
       "      <td>8</td>\n",
       "      <td>44</td>\n",
       "      <td>44</td>\n",
       "    </tr>\n",
       "    <tr>\n",
       "      <th>3</th>\n",
       "      <td>70</td>\n",
       "      <td>C_ID_186d6a6901</td>\n",
       "      <td>4</td>\n",
       "      <td>3</td>\n",
       "      <td>0</td>\n",
       "      <td>0.142495</td>\n",
       "      <td>-54.145736</td>\n",
       "      <td>89.0</td>\n",
       "      <td>-0.707839</td>\n",
       "      <td>1.0</td>\n",
       "      <td>...</td>\n",
       "      <td>0.023523</td>\n",
       "      <td>-6.361110</td>\n",
       "      <td>82.0</td>\n",
       "      <td>7</td>\n",
       "      <td>28</td>\n",
       "      <td>57</td>\n",
       "      <td>5</td>\n",
       "      <td>15</td>\n",
       "      <td>84</td>\n",
       "      <td>84</td>\n",
       "    </tr>\n",
       "    <tr>\n",
       "      <th>4</th>\n",
       "      <td>72</td>\n",
       "      <td>C_ID_cdbd2c0db2</td>\n",
       "      <td>1</td>\n",
       "      <td>3</td>\n",
       "      <td>0</td>\n",
       "      <td>-0.159749</td>\n",
       "      <td>-88.966702</td>\n",
       "      <td>179.0</td>\n",
       "      <td>0.000000</td>\n",
       "      <td>0.0</td>\n",
       "      <td>...</td>\n",
       "      <td>0.091496</td>\n",
       "      <td>-2.668681</td>\n",
       "      <td>151.0</td>\n",
       "      <td>7</td>\n",
       "      <td>37</td>\n",
       "      <td>103</td>\n",
       "      <td>7</td>\n",
       "      <td>19</td>\n",
       "      <td>169</td>\n",
       "      <td>169</td>\n",
       "    </tr>\n",
       "  </tbody>\n",
       "</table>\n",
       "<p>5 rows × 1742 columns</p>\n",
       "</div>"
      ],
      "text/plain": [
       "   first_active_month          card_id  feature_1  feature_2  feature_3  \\\n",
       "0                  67  C_ID_92a2005557          5          2          1   \n",
       "1                  62  C_ID_3d0044924f          4          1          0   \n",
       "2                  57  C_ID_d639edf6cd          2          2          0   \n",
       "3                  70  C_ID_186d6a6901          4          3          0   \n",
       "4                  72  C_ID_cdbd2c0db2          1          3          0   \n",
       "\n",
       "     target  authorized_flag&1&purchase_amount  \\\n",
       "0 -0.820283                        -170.641218   \n",
       "1  0.392913                        -213.239185   \n",
       "2  0.688056                         -28.528749   \n",
       "3  0.142495                         -54.145736   \n",
       "4 -0.159749                         -88.966702   \n",
       "\n",
       "   authorized_flag&1&installments  city_id&19&purchase_amount  \\\n",
       "0                             0.0                   -1.422815   \n",
       "1                           507.0                   -4.782308   \n",
       "2                             0.0                   -0.705405   \n",
       "3                            89.0                   -0.707839   \n",
       "4                           179.0                    0.000000   \n",
       "\n",
       "   city_id&19&installments  ...  category_4_var  category_4_skew  \\\n",
       "0                      0.0  ...        0.054623        -3.811953   \n",
       "1                      7.0  ...        0.075036        -3.073118   \n",
       "2                      0.0  ...        0.065011        -3.548480   \n",
       "3                      1.0  ...        0.023523        -6.361110   \n",
       "4                      0.0  ...        0.091496        -2.668681   \n",
       "\n",
       "   category_4_sum  city_id_nunique  merchant_category_id_nunique  \\\n",
       "0           261.0                9                            46   \n",
       "1           327.0                9                            58   \n",
       "2            41.0                5                             9   \n",
       "3            82.0                7                            28   \n",
       "4           151.0                7                            37   \n",
       "\n",
       "   merchant_id_nunique  state_id_nunique  subsector_id_nunique  card_id_size  \\\n",
       "0                  118                 3                    21           283   \n",
       "1                  148                 3                    24           356   \n",
       "2                   14                 2                     8            44   \n",
       "3                   57                 5                    15            84   \n",
       "4                  103                 7                    19           169   \n",
       "\n",
       "   card_id_count  \n",
       "0            283  \n",
       "1            356  \n",
       "2             44  \n",
       "3             84  \n",
       "4            169  \n",
       "\n",
       "[5 rows x 1742 columns]"
      ]
     },
     "execution_count": 7,
     "metadata": {},
     "output_type": "execute_result"
    }
   ],
   "source": [
    "train.head()"
   ]
  },
  {
   "cell_type": "code",
   "execution_count": 9,
   "metadata": {},
   "outputs": [
    {
     "data": {
      "text/plain": [
       "0.7739293811412331"
      ]
     },
     "execution_count": 9,
     "metadata": {},
     "output_type": "execute_result"
    }
   ],
   "source": [
    "1 - np.count_nonzero(train)/train.size #zero%"
   ]
  },
  {
   "cell_type": "code",
   "execution_count": 10,
   "metadata": {},
   "outputs": [],
   "source": [
    "train_features = train.columns.tolist()\n"
   ]
  },
  {
   "cell_type": "code",
   "execution_count": 11,
   "metadata": {},
   "outputs": [],
   "source": [
    "train_features.remove('card_id')"
   ]
  },
  {
   "cell_type": "code",
   "execution_count": 12,
   "metadata": {},
   "outputs": [],
   "source": [
    "train_features.remove('target')"
   ]
  },
  {
   "cell_type": "code",
   "execution_count": 13,
   "metadata": {},
   "outputs": [],
   "source": [
    "feature_filter = train_features[:]"
   ]
  },
  {
   "cell_type": "code",
   "execution_count": 15,
   "metadata": {},
   "outputs": [],
   "source": [
    "corr = []\n",
    "for fea in feature_filter:\n",
    "    corr.append(train[[fea, 'target']].fillna(0).corr().values[0,1])\n",
    "#Pearson correlation matrix"
   ]
  },
  {
   "cell_type": "code",
   "execution_count": 16,
   "metadata": {},
   "outputs": [],
   "source": [
    "se = pd.Series(corr, index = feature_filter).sort_values(ascending = False)"
   ]
  },
  {
   "cell_type": "code",
   "execution_count": 48,
   "metadata": {},
   "outputs": [],
   "source": [
    "feature_filter = ['card_id'] + se[:300].index.tolist() #SELECT TOP300"
   ]
  },
  {
   "cell_type": "code",
   "execution_count": 49,
   "metadata": {},
   "outputs": [],
   "source": [
    "train_RF = train[feature_filter + ['target']]"
   ]
  },
  {
   "cell_type": "code",
   "execution_count": 50,
   "metadata": {},
   "outputs": [],
   "source": [
    "test_RF = test[feature_filter]"
   ]
  },
  {
   "cell_type": "code",
   "execution_count": 20,
   "metadata": {},
   "outputs": [],
   "source": [
    "import matplotlib.pyplot as plt"
   ]
  },
  {
   "cell_type": "code",
   "execution_count": 21,
   "metadata": {
    "collapsed": true,
    "jupyter": {
     "outputs_hidden": true
    },
    "tags": []
   },
   "outputs": [
    {
     "data": {
      "text/plain": [
       "(array([ 21.,   0.,   0.,   0.,   0.,   0.,   0.,   0.,   0.,   0.,   0.,\n",
       "          0.,   0.,   0.,   0.,   0.,   0.,   0.,   1.,   0.,   0.,   1.,\n",
       "          3.,   2.,   2.,   2.,   2.,   9.,   2.,  10.,   9.,  10.,   9.,\n",
       "         10.,   7.,   3.,   6.,   8.,  17.,  10.,   5.,  19.,  13.,  27.,\n",
       "         29.,  27.,  25.,  43.,  50., 108., 242., 662., 212.,  37.,  16.,\n",
       "         11.,   8.,   7.,   8.,  10.,   2.,   1.,   6.,   3.,   2.,   2.,\n",
       "          1.,   0.,   2.,   2.,   0.,   0.,   2.,   2.,   1.,   1.,   0.,\n",
       "          1.,   0.,   0.,   0.,   1.,   0.,   3.,   0.,   0.,   1.,   0.,\n",
       "          0.,   1.,   0.,   0.,   0.,   0.,   0.,   0.,   2.,   0.,   0.,\n",
       "          1.]),\n",
       " array([-0.1       , -0.09805683, -0.09611366, -0.09417049, -0.09222732,\n",
       "        -0.09028415, -0.08834098, -0.08639781, -0.08445464, -0.08251147,\n",
       "        -0.0805683 , -0.07862513, -0.07668196, -0.07473879, -0.07279562,\n",
       "        -0.07085245, -0.06890928, -0.0669661 , -0.06502293, -0.06307976,\n",
       "        -0.06113659, -0.05919342, -0.05725025, -0.05530708, -0.05336391,\n",
       "        -0.05142074, -0.04947757, -0.0475344 , -0.04559123, -0.04364806,\n",
       "        -0.04170489, -0.03976172, -0.03781855, -0.03587538, -0.03393221,\n",
       "        -0.03198904, -0.03004587, -0.0281027 , -0.02615953, -0.02421636,\n",
       "        -0.02227319, -0.02033002, -0.01838685, -0.01644368, -0.01450051,\n",
       "        -0.01255734, -0.01061417, -0.008671  , -0.00672783, -0.00478466,\n",
       "        -0.00284149, -0.00089831,  0.00104486,  0.00298803,  0.0049312 ,\n",
       "         0.00687437,  0.00881754,  0.01076071,  0.01270388,  0.01464705,\n",
       "         0.01659022,  0.01853339,  0.02047656,  0.02241973,  0.0243629 ,\n",
       "         0.02630607,  0.02824924,  0.03019241,  0.03213558,  0.03407875,\n",
       "         0.03602192,  0.03796509,  0.03990826,  0.04185143,  0.0437946 ,\n",
       "         0.04573777,  0.04768094,  0.04962411,  0.05156728,  0.05351045,\n",
       "         0.05545362,  0.05739679,  0.05933996,  0.06128313,  0.0632263 ,\n",
       "         0.06516948,  0.06711265,  0.06905582,  0.07099899,  0.07294216,\n",
       "         0.07488533,  0.0768285 ,  0.07877167,  0.08071484,  0.08265801,\n",
       "         0.08460118,  0.08654435,  0.08848752,  0.09043069,  0.09237386,\n",
       "         0.09431703]),\n",
       " <BarContainer object of 100 artists>)"
      ]
     },
     "execution_count": 21,
     "metadata": {},
     "output_type": "execute_result"
    },
    {
     "data": {
      "image/png": "[encoded data removed]",
      "text/plain": [
       "<Figure size 640x480 with 1 Axes>"
      ]
     },
     "metadata": {},
     "output_type": "display_data"
    }
   ],
   "source": [
    "#correlation distribution visualization\n",
    "plt.Figure()\n",
    "plt.hist(se.fillna(-0.1).values, bins = 100)"
   ]
  },
  {
   "cell_type": "code",
   "execution_count": 22,
   "metadata": {},
   "outputs": [],
   "source": [
    "#na%\n",
    "null_perc = []\n",
    "for fea in train_features:\n",
    "    fea_null_perc = 1 - np.count_nonzero(train[fea])/train.shape[0]\n",
    "    null_perc.append(fea_null_perc)\n",
    "    \n",
    "train_null_perc = pd.Series(null_perc, index = train_features).sort_values(ascending = False)\n"
   ]
  },
  {
   "cell_type": "code",
   "execution_count": 23,
   "metadata": {
    "collapsed": true,
    "jupyter": {
     "outputs_hidden": true
    },
    "tags": []
   },
   "outputs": [
    {
     "data": {
      "text/plain": [
       "(array([128.,  49.,  20.,   8.,  10.,  11.,   4.,   1.,   4.,   4.,   8.,\n",
       "          1.,   1.,   1.,   1.,   5.,   3.,   1.,   5.,   7.,   3.,   2.,\n",
       "          3.,   6.,   4.,   3.,   5.,   7.,   4.,   2.,   4.,   4.,   5.,\n",
       "          4.,   2.,   2.,   1.,   4.,   3.,   0.,   1.,   2.,   5.,   5.,\n",
       "          1.,   2.,   2.,   7.,   9.,   1.,   3.,   2.,   8.,   3.,   2.,\n",
       "          2.,   5.,   4.,   5.,   2.,   4.,   6.,   3.,   1.,   2.,   2.,\n",
       "          3.,   3.,   3.,   1.,  11.,   0.,   7.,   2.,   4.,   2.,   4.,\n",
       "          3.,   4.,   7.,   5.,   3.,   5.,   4.,   6.,  10.,  10.,   3.,\n",
       "         11.,  10.,  11.,  13.,  16.,  19.,  21.,  29.,  36.,  62., 153.,\n",
       "        830.]),\n",
       " array([0.  , 0.01, 0.02, 0.03, 0.04, 0.05, 0.06, 0.07, 0.08, 0.09, 0.1 ,\n",
       "        0.11, 0.12, 0.13, 0.14, 0.15, 0.16, 0.17, 0.18, 0.19, 0.2 , 0.21,\n",
       "        0.22, 0.23, 0.24, 0.25, 0.26, 0.27, 0.28, 0.29, 0.3 , 0.31, 0.32,\n",
       "        0.33, 0.34, 0.35, 0.36, 0.37, 0.38, 0.39, 0.4 , 0.41, 0.42, 0.43,\n",
       "        0.44, 0.45, 0.46, 0.47, 0.48, 0.49, 0.5 , 0.51, 0.52, 0.53, 0.54,\n",
       "        0.55, 0.56, 0.57, 0.58, 0.59, 0.6 , 0.61, 0.62, 0.63, 0.64, 0.65,\n",
       "        0.66, 0.67, 0.68, 0.69, 0.7 , 0.71, 0.72, 0.73, 0.74, 0.75, 0.76,\n",
       "        0.77, 0.78, 0.79, 0.8 , 0.81, 0.82, 0.83, 0.84, 0.85, 0.86, 0.87,\n",
       "        0.88, 0.89, 0.9 , 0.91, 0.92, 0.93, 0.94, 0.95, 0.96, 0.97, 0.98,\n",
       "        0.99, 1.  ]),\n",
       " <BarContainer object of 100 artists>)"
      ]
     },
     "execution_count": 23,
     "metadata": {},
     "output_type": "execute_result"
    },
    {
     "data": {
      "image/png": "[encoded data removed]",
      "text/plain": [
       "<Figure size 640x480 with 1 Axes>"
      ]
     },
     "metadata": {},
     "output_type": "display_data"
    }
   ],
   "source": [
    "#na% distribution visualization\n",
    "plt.Figure()\n",
    "plt.hist(train_null_perc.values, bins = 100)"
   ]
  },
  {
   "cell_type": "code",
   "execution_count": 24,
   "metadata": {},
   "outputs": [],
   "source": [
    "def feature_select_pearson(train, test):\n",
    "    #Pearson correlation feature selection tool\n",
    "    print('feature_select...')\n",
    "    features = train.columns.tolist()\n",
    "    features.remove(\"card_id\")\n",
    "    features.remove(\"target\")\n",
    "    featureSelect = features[:]\n",
    "    # remove na%>99%\n",
    "    for fea in features:\n",
    "        if train[fea].isnull().sum() / train.shape[0] >= 0.99:\n",
    "            featureSelect.remove(fea)\n",
    "    # Pearson Correlation list\n",
    "    corr = []\n",
    "    for fea in featureSelect:\n",
    "        corr.append(abs(train[[fea, 'target']].fillna(0).corr().values[0][1]))\n",
    "    # Selecti\n",
    "    se = pd.Series(corr, index=featureSelect).sort_values(ascending=False)\n",
    "    feature_select = ['card_id'] + se[:300].index.tolist()\n",
    "    print('done')\n",
    "    return train[feature_select + ['target']], test[feature_select]\n"
   ]
  },
  {
   "cell_type": "code",
   "execution_count": 25,
   "metadata": {
    "collapsed": true,
    "jupyter": {
     "outputs_hidden": true
    },
    "tags": []
   },
   "outputs": [
    {
     "name": "stdout",
     "output_type": "stream",
     "text": [
      "feature_select...\n",
      "done\n"
     ]
    },
    {
     "data": {
      "text/plain": [
       "(                card_id  purchase_month_max_hist  purchase_month_mean_hist  \\\n",
       " 0       C_ID_92a2005557                       12                  8.708861   \n",
       " 1       C_ID_3d0044924f                       11                  6.110368   \n",
       " 2       C_ID_d639edf6cd                       12                  4.190476   \n",
       " 3       C_ID_186d6a6901                       12                  9.426230   \n",
       " 4       C_ID_cdbd2c0db2                       12                 11.255102   \n",
       " ...                 ...                      ...                       ...   \n",
       " 201912  C_ID_963962de2c                       12                 10.361111   \n",
       " 201913  C_ID_1314773c0b                       12                  8.560976   \n",
       " 201914  C_ID_7666735b3d                       12                  9.176471   \n",
       " 201915  C_ID_73f5a0efd0                        8                  4.650000   \n",
       " 201916  C_ID_92c9984c58                       12                  7.879699   \n",
       " \n",
       "         purchase_month_max  purchase_month_mean  purchase_month_min_new  \\\n",
       " 0                       15             9.526502                    13.0   \n",
       " 1                       14             7.078652                    12.0   \n",
       " 2                       15             4.636364                    13.0   \n",
       " 3                       15            10.547619                    13.0   \n",
       " 4                       15            12.319527                    13.0   \n",
       " ...                    ...                  ...                     ...   \n",
       " 201912                  14            11.000000                    13.0   \n",
       " 201913                  14             9.229167                    13.0   \n",
       " 201914                  14             9.422222                    13.0   \n",
       " 201915                  11             6.451613                     9.0   \n",
       " 201916                  15             8.288732                    13.0   \n",
       " \n",
       "         purchase_hour_section_nunique_new  purchase_month_mean_new  \\\n",
       " 0                                     4.0                13.739130   \n",
       " 1                                     3.0                12.157895   \n",
       " 2                                     2.0                14.000000   \n",
       " 3                                     3.0                13.521739   \n",
       " 4                                     4.0                13.788732   \n",
       " ...                                   ...                      ...   \n",
       " 201912                                4.0                13.090909   \n",
       " 201913                                2.0                13.142857   \n",
       " 201914                                2.0                13.600000   \n",
       " 201915                                3.0                 9.727273   \n",
       " 201916                                3.0                14.333333   \n",
       " \n",
       "         purchase_month_min  purchase_month_min_hist  ...  \\\n",
       " 0                        5                        5  ...   \n",
       " 1                        0                        0  ...   \n",
       " 2                        0                        0  ...   \n",
       " 3                        8                        8  ...   \n",
       " 4                       10                       10  ...   \n",
       " ...                    ...                      ...  ...   \n",
       " 201912                   8                        8  ...   \n",
       " 201913                   0                        0  ...   \n",
       " 201914                   7                        7  ...   \n",
       " 201915                   0                        0  ...   \n",
       " 201916                   6                        6  ...   \n",
       " \n",
       "         city_id&151&installments  merchant_category_id&836&purchase_amount  \\\n",
       " 0                            0.0                                       0.0   \n",
       " 1                            0.0                                       0.0   \n",
       " 2                            0.0                                       0.0   \n",
       " 3                            0.0                                       0.0   \n",
       " 4                            0.0                                       0.0   \n",
       " ...                          ...                                       ...   \n",
       " 201912                       0.0                                       0.0   \n",
       " 201913                       0.0                                       0.0   \n",
       " 201914                       0.0                                       0.0   \n",
       " 201915                       0.0                                       0.0   \n",
       " 201916                       0.0                                       0.0   \n",
       " \n",
       "         merchant_category_id&80&installments  purchase_day_max_hist  \\\n",
       " 0                                        1.0                      1   \n",
       " 1                                       48.0                      1   \n",
       " 2                                        0.0                      1   \n",
       " 3                                       12.0                      1   \n",
       " 4                                       19.0                      1   \n",
       " ...                                      ...                    ...   \n",
       " 201912                                   0.0                      1   \n",
       " 201913                                   0.0                      1   \n",
       " 201914                                   6.0                      1   \n",
       " 201915                                   0.0                      1   \n",
       " 201916                                   3.0                      1   \n",
       " \n",
       "         most_recent_purchases_range_skew  \\\n",
       " 0                               0.390758   \n",
       " 1                               0.898998   \n",
       " 2                               2.676919   \n",
       " 3                               0.062816   \n",
       " 4                              -0.457565   \n",
       " ...                                  ...   \n",
       " 201912                         -0.237700   \n",
       " 201913                          0.233343   \n",
       " 201914                          0.150723   \n",
       " 201915                          0.993621   \n",
       " 201916                          1.611340   \n",
       " \n",
       "         merchant_category_id&683&installments  purchase_amount_nunique  \\\n",
       " 0                                         0.0                      227   \n",
       " 1                                        25.0                      238   \n",
       " 2                                         0.0                       42   \n",
       " 3                                         6.0                       78   \n",
       " 4                                         3.0                      156   \n",
       " ...                                       ...                      ...   \n",
       " 201912                                    0.0                       43   \n",
       " 201913                                    0.0                       39   \n",
       " 201914                                    1.0                       81   \n",
       " 201915                                    0.0                       28   \n",
       " 201916                                    0.0                      118   \n",
       " \n",
       "         category_3&0&installments  purchase_day_diff_nunique    target  \n",
       " 0                             0.0                          3 -0.820283  \n",
       " 1                            -2.0                          3  0.392913  \n",
       " 2                             0.0                          3  0.688056  \n",
       " 3                            -3.0                          3  0.142495  \n",
       " 4                            -1.0                          3 -0.159749  \n",
       " ...                           ...                        ...       ...  \n",
       " 201912                        0.0                          3 -2.740821  \n",
       " 201913                        0.0                          3  0.312917  \n",
       " 201914                       -1.0                          3  0.093494  \n",
       " 201915                        0.0                          3 -4.676589  \n",
       " 201916                       -3.0                          3 -1.859413  \n",
       " \n",
       " [201917 rows x 302 columns],\n",
       "                 card_id  purchase_month_max_hist  purchase_month_mean_hist  \\\n",
       " 0       C_ID_0ab67a22ab                       10                  6.741379   \n",
       " 1       C_ID_130fd0cbdd                        4                  2.315789   \n",
       " 2       C_ID_b709037bc5                       12                 10.300000   \n",
       " 3       C_ID_d27d835a9f                       12                 11.117647   \n",
       " 4       C_ID_2b5e3df5c2                       12                  5.126437   \n",
       " ...                 ...                      ...                       ...   \n",
       " 123618  C_ID_7a239d2eda                       12                 10.654545   \n",
       " 123619  C_ID_75ace375ae                       12                 10.285714   \n",
       " 123620  C_ID_21d56d950c                       11                  8.103448   \n",
       " 123621  C_ID_6c46fc5a9d                        8                  6.666667   \n",
       " 123622  C_ID_87e7979a5f                       12                  5.853659   \n",
       " \n",
       "         purchase_month_max  purchase_month_mean  purchase_month_min_new  \\\n",
       " 0                       13             7.605634                    11.0   \n",
       " 1                       15             3.816092                    13.0   \n",
       " 2                       14            11.333333                    13.0   \n",
       " 3                       15            12.472222                    13.0   \n",
       " 4                       15             7.155172                    13.0   \n",
       " ...                    ...                  ...                     ...   \n",
       " 123618                  13            11.232877                    13.0   \n",
       " 123619                  15            11.727273                    14.0   \n",
       " 123620                  13             9.162162                    13.0   \n",
       " 123621                  10             7.132353                     9.0   \n",
       " 123622                  14             6.209302                    13.0   \n",
       " \n",
       "         purchase_hour_section_nunique_new  purchase_month_mean_new  \\\n",
       " 0                                     4.0                11.461538   \n",
       " 1                                     3.0                14.181818   \n",
       " 2                                     2.0                13.400000   \n",
       " 3                                     3.0                13.684211   \n",
       " 4                                     4.0                13.241379   \n",
       " ...                                   ...                      ...   \n",
       " 123618                                3.0                13.000000   \n",
       " 123619                                2.0                14.250000   \n",
       " 123620                                2.0                13.000000   \n",
       " 123621                                4.0                 9.545455   \n",
       " 123622                                1.0                13.500000   \n",
       " \n",
       "         purchase_month_min  purchase_month_min_hist  ...  \\\n",
       " 0                        3                        3  ...   \n",
       " 1                        0                        0  ...   \n",
       " 2                        7                        7  ...   \n",
       " 3                       11                       11  ...   \n",
       " 4                        0                        0  ...   \n",
       " ...                    ...                      ...  ...   \n",
       " 123618                   9                        9  ...   \n",
       " 123619                   8                        8  ...   \n",
       " 123620                   3                        3  ...   \n",
       " 123621                   5                        5  ...   \n",
       " 123622                   0                        0  ...   \n",
       " \n",
       "         category_2_nunique_hist  city_id&151&installments  \\\n",
       " 0                             2                       0.0   \n",
       " 1                             3                       0.0   \n",
       " 2                             3                       0.0   \n",
       " 3                             1                       0.0   \n",
       " 4                             2                       0.0   \n",
       " ...                         ...                       ...   \n",
       " 123618                        2                       0.0   \n",
       " 123619                        2                       0.0   \n",
       " 123620                        2                       0.0   \n",
       " 123621                        2                       0.0   \n",
       " 123622                        2                       0.0   \n",
       " \n",
       "         merchant_category_id&836&purchase_amount  \\\n",
       " 0                                            0.0   \n",
       " 1                                            0.0   \n",
       " 2                                            0.0   \n",
       " 3                                            0.0   \n",
       " 4                                            0.0   \n",
       " ...                                          ...   \n",
       " 123618                                       0.0   \n",
       " 123619                                       0.0   \n",
       " 123620                                       0.0   \n",
       " 123621                                       0.0   \n",
       " 123622                                       0.0   \n",
       " \n",
       "         merchant_category_id&80&installments  purchase_day_max_hist  \\\n",
       " 0                                        7.0                      1   \n",
       " 1                                        5.0                      1   \n",
       " 2                                        0.0                      0   \n",
       " 3                                        3.0                      1   \n",
       " 4                                        2.0                      1   \n",
       " ...                                      ...                    ...   \n",
       " 123618                                   0.0                      1   \n",
       " 123619                                   0.0                      1   \n",
       " 123620                                   0.0                      1   \n",
       " 123621                                   0.0                      1   \n",
       " 123622                                   0.0                      1   \n",
       " \n",
       "         most_recent_purchases_range_skew  \\\n",
       " 0                               0.026662   \n",
       " 1                              -0.237364   \n",
       " 2                              -1.975167   \n",
       " 3                               0.284734   \n",
       " 4                              -0.642962   \n",
       " ...                                  ...   \n",
       " 123618                          0.364895   \n",
       " 123619                          0.196423   \n",
       " 123620                          0.437031   \n",
       " 123621                          0.233264   \n",
       " 123622                         -0.360019   \n",
       " \n",
       "         merchant_category_id&683&installments  purchase_amount_nunique  \\\n",
       " 0                                         1.0                       49   \n",
       " 1                                         0.0                       73   \n",
       " 2                                         0.0                       15   \n",
       " 3                                         1.0                       34   \n",
       " 4                                         2.0                       76   \n",
       " ...                                       ...                      ...   \n",
       " 123618                                    0.0                       66   \n",
       " 123619                                    0.0                       11   \n",
       " 123620                                    8.0                       36   \n",
       " 123621                                    0.0                       58   \n",
       " 123622                                    0.0                       26   \n",
       " \n",
       "         category_3&0&installments  purchase_day_diff_nunique  \n",
       " 0                             0.0                          3  \n",
       " 1                             0.0                          3  \n",
       " 2                            -3.0                          1  \n",
       " 3                            -2.0                          3  \n",
       " 4                            -1.0                          3  \n",
       " ...                           ...                        ...  \n",
       " 123618                        0.0                          3  \n",
       " 123619                        0.0                          3  \n",
       " 123620                       -1.0                          3  \n",
       " 123621                       -2.0                          3  \n",
       " 123622                       -1.0                          3  \n",
       " \n",
       " [123623 rows x 301 columns])"
      ]
     },
     "execution_count": 25,
     "metadata": {},
     "output_type": "execute_result"
    }
   ],
   "source": [
    "feature_select_pearson(train, test)"
   ]
  },
  {
   "cell_type": "code",
   "execution_count": 26,
   "metadata": {},
   "outputs": [],
   "source": [
    "from sklearn.metrics import mean_squared_error\n",
    "from sklearn.ensemble import RandomForestRegressor\n",
    "from sklearn.model_selection import GridSearchCV"
   ]
  },
  {
   "cell_type": "code",
   "execution_count": 38,
   "metadata": {},
   "outputs": [],
   "source": [
    "def param_grid_search(train):\n",
    "\n",
    "    # Grid search tool-hyper parameter tuning\n",
    "    print('param_grid_search')\n",
    "    features = train.columns.tolist()\n",
    "    features.remove(\"card_id\")\n",
    "    features.remove(\"target\")\n",
    "    parameter_space = {\n",
    "        \"n_estimators\": [81], \n",
    "        \"min_samples_leaf\": [31],\n",
    "        \"min_samples_split\": [2],\n",
    "        \"max_depth\": [10],\n",
    "        \"max_features\": [80]\n",
    "    }\n",
    "    \n",
    "\n",
    "    print(\"Tuning hyper-parameters for mse\")\n",
    "\n",
    "    clf = RandomForestRegressor(\n",
    "        criterion=\"squared_error\",\n",
    "        n_jobs=15,\n",
    "        random_state=22)\n",
    "\n",
    "    grid = GridSearchCV(clf, parameter_space, cv=2, scoring=\"neg_mean_squared_error\")\n",
    "    grid.fit(train[features].values, train['target'].values)\n",
    "    \n",
    "\n",
    "    print(\"best_params_:\")\n",
    "    print(grid.best_params_)\n",
    "    means = grid.cv_results_[\"mean_test_score\"]\n",
    "    stds = grid.cv_results_[\"std_test_score\"]\n",
    "\n",
    "    for mean, std, params in zip(means, stds, grid.cv_results_[\"params\"]):\n",
    "        print(\"%0.3f (+/-%0.03f) for %r\"\n",
    "              % (mean, std * 2, params))\n",
    "    return grid"
   ]
  },
  {
   "cell_type": "code",
   "execution_count": 39,
   "metadata": {
    "tags": []
   },
   "outputs": [
    {
     "name": "stdout",
     "output_type": "stream",
     "text": [
      "param_grid_search\n",
      "Tuning hyper-parameters for mse\n",
      "best_params_:\n",
      "{'max_depth': 10, 'max_features': 80, 'min_samples_leaf': 31, 'min_samples_split': 2, 'n_estimators': 81}\n",
      "-13.729 (+/-0.090) for {'max_depth': 10, 'max_features': 80, 'min_samples_leaf': 31, 'min_samples_split': 2, 'n_estimators': 81}\n"
     ]
    }
   ],
   "source": [
    "grid = param_grid_search(train_RF)"
   ]
  },
  {
   "cell_type": "code",
   "execution_count": 40,
   "metadata": {},
   "outputs": [
    {
     "data": {
      "text/html": [
       "<style>#sk-container-id-1 {color: black;background-color: white;}#sk-container-id-1 pre{padding: 0;}#sk-container-id-1 div.sk-toggleable {background-color: white;}#sk-container-id-1 label.sk-toggleable__label {cursor: pointer;display: block;width: 100%;margin-bottom: 0;padding: 0.3em;box-sizing: border-box;text-align: center;}#sk-container-id-1 label.sk-toggleable__label-arrow:before {content: \"▸\";float: left;margin-right: 0.25em;color: #696969;}#sk-container-id-1 label.sk-toggleable__label-arrow:hover:before {color: black;}#sk-container-id-1 div.sk-estimator:hover label.sk-toggleable__label-arrow:before {color: black;}#sk-container-id-1 div.sk-toggleable__content {max-height: 0;max-width: 0;overflow: hidden;text-align: left;background-color: #f0f8ff;}#sk-container-id-1 div.sk-toggleable__content pre {margin: 0.2em;color: black;border-radius: 0.25em;background-color: #f0f8ff;}#sk-container-id-1 input.sk-toggleable__control:checked~div.sk-toggleable__content {max-height: 200px;max-width: 100%;overflow: auto;}#sk-container-id-1 input.sk-toggleable__control:checked~label.sk-toggleable__label-arrow:before {content: \"▾\";}#sk-container-id-1 div.sk-estimator input.sk-toggleable__control:checked~label.sk-toggleable__label {background-color: #d4ebff;}#sk-container-id-1 div.sk-label input.sk-toggleable__control:checked~label.sk-toggleable__label {background-color: #d4ebff;}#sk-container-id-1 input.sk-hidden--visually {border: 0;clip: rect(1px 1px 1px 1px);clip: rect(1px, 1px, 1px, 1px);height: 1px;margin: -1px;overflow: hidden;padding: 0;position: absolute;width: 1px;}#sk-container-id-1 div.sk-estimator {font-family: monospace;background-color: #f0f8ff;border: 1px dotted black;border-radius: 0.25em;box-sizing: border-box;margin-bottom: 0.5em;}#sk-container-id-1 div.sk-estimator:hover {background-color: #d4ebff;}#sk-container-id-1 div.sk-parallel-item::after {content: \"\";width: 100%;border-bottom: 1px solid gray;flex-grow: 1;}#sk-container-id-1 div.sk-label:hover label.sk-toggleable__label {background-color: #d4ebff;}#sk-container-id-1 div.sk-serial::before {content: \"\";position: absolute;border-left: 1px solid gray;box-sizing: border-box;top: 0;bottom: 0;left: 50%;z-index: 0;}#sk-container-id-1 div.sk-serial {display: flex;flex-direction: column;align-items: center;background-color: white;padding-right: 0.2em;padding-left: 0.2em;position: relative;}#sk-container-id-1 div.sk-item {position: relative;z-index: 1;}#sk-container-id-1 div.sk-parallel {display: flex;align-items: stretch;justify-content: center;background-color: white;position: relative;}#sk-container-id-1 div.sk-item::before, #sk-container-id-1 div.sk-parallel-item::before {content: \"\";position: absolute;border-left: 1px solid gray;box-sizing: border-box;top: 0;bottom: 0;left: 50%;z-index: -1;}#sk-container-id-1 div.sk-parallel-item {display: flex;flex-direction: column;z-index: 1;position: relative;background-color: white;}#sk-container-id-1 div.sk-parallel-item:first-child::after {align-self: flex-end;width: 50%;}#sk-container-id-1 div.sk-parallel-item:last-child::after {align-self: flex-start;width: 50%;}#sk-container-id-1 div.sk-parallel-item:only-child::after {width: 0;}#sk-container-id-1 div.sk-dashed-wrapped {border: 1px dashed gray;margin: 0 0.4em 0.5em 0.4em;box-sizing: border-box;padding-bottom: 0.4em;background-color: white;}#sk-container-id-1 div.sk-label label {font-family: monospace;font-weight: bold;display: inline-block;line-height: 1.2em;}#sk-container-id-1 div.sk-label-container {text-align: center;}#sk-container-id-1 div.sk-container {/* jupyter's `normalize.less` sets `[hidden] { display: none; }` but bootstrap.min.css set `[hidden] { display: none !important; }` so we also need the `!important` here to be able to override the default hidden behavior on the sphinx rendered scikit-learn.org. See: https://github.com/scikit-learn/scikit-learn/issues/21755 */display: inline-block !important;position: relative;}#sk-container-id-1 div.sk-text-repr-fallback {display: none;}</style><div id=\"sk-container-id-1\" class=\"sk-top-container\"><div class=\"sk-text-repr-fallback\"><pre>RandomForestRegressor(max_depth=10, max_features=80, min_samples_leaf=31,\n",
       "                      n_estimators=81, n_jobs=15, random_state=22)</pre><b>In a Jupyter environment, please rerun this cell to show the HTML representation or trust the notebook. <br />On GitHub, the HTML representation is unable to render, please try loading this page with nbviewer.org.</b></div><div class=\"sk-container\" hidden><div class=\"sk-item\"><div class=\"sk-estimator sk-toggleable\"><input class=\"sk-toggleable__control sk-hidden--visually\" id=\"sk-estimator-id-1\" type=\"checkbox\" checked><label for=\"sk-estimator-id-1\" class=\"sk-toggleable__label sk-toggleable__label-arrow\">RandomForestRegressor</label><div class=\"sk-toggleable__content\"><pre>RandomForestRegressor(max_depth=10, max_features=80, min_samples_leaf=31,\n",
       "                      n_estimators=81, n_jobs=15, random_state=22)</pre></div></div></div></div></div>"
      ],
      "text/plain": [
       "RandomForestRegressor(max_depth=10, max_features=80, min_samples_leaf=31,\n",
       "                      n_estimators=81, n_jobs=15, random_state=22)"
      ]
     },
     "execution_count": 40,
     "metadata": {},
     "output_type": "execute_result"
    }
   ],
   "source": [
    "grid.best_estimator_"
   ]
  },
  {
   "cell_type": "code",
   "execution_count": 41,
   "metadata": {},
   "outputs": [
    {
     "data": {
      "text/plain": [
       "-13.728861717662618"
      ]
     },
     "execution_count": 41,
     "metadata": {},
     "output_type": "execute_result"
    }
   ],
   "source": [
    "grid.best_score_"
   ]
  },
  {
   "cell_type": "code",
   "execution_count": 42,
   "metadata": {},
   "outputs": [
    {
     "data": {
      "text/plain": [
       "3.7052478618390183"
      ]
     },
     "execution_count": 42,
     "metadata": {},
     "output_type": "execute_result"
    }
   ],
   "source": [
    "np.sqrt(-grid.best_score_)"
   ]
  },
  {
   "cell_type": "code",
   "execution_count": 44,
   "metadata": {},
   "outputs": [
    {
     "name": "stderr",
     "output_type": "stream",
     "text": [
      "/Users/keweilu/anaconda3/lib/python3.10/site-packages/sklearn/base.py:413: UserWarning: X has feature names, but RandomForestRegressor was fitted without feature names\n",
      "  warnings.warn(\n"
     ]
    }
   ],
   "source": [
    "test_RF['target'] = grid.best_estimator_.predict(test_RF[se[:300].index.tolist()])"
   ]
  },
  {
   "cell_type": "code",
   "execution_count": 51,
   "metadata": {},
   "outputs": [
    {
     "data": {
      "text/plain": [
       "True"
      ]
     },
     "execution_count": 51,
     "metadata": {},
     "output_type": "execute_result"
    }
   ],
   "source": [
    "'card_id' in test_RF.columns.tolist()"
   ]
  },
  {
   "cell_type": "code",
   "execution_count": 57,
   "metadata": {},
   "outputs": [],
   "source": [
    "from sklearn.model_selection import KFold\n",
    "from numpy.random import RandomState\n",
    "from sklearn.metrics import mean_squared_error"
   ]
  },
  {
   "cell_type": "code",
   "execution_count": 90,
   "metadata": {},
   "outputs": [],
   "source": [
    "def train_predict(train, test, best_clf):\n",
    "    #Cross validation\n",
    "    features = train.columns.tolist()\n",
    "    features.remove('card_id')\n",
    "    features. remove('target')\n",
    "    \n",
    "    prediction_test = 0\n",
    "    cv_score = []\n",
    "    prediction_train = pd.Series()\n",
    "    \n",
    "    kf = KFold(n_splits=5, shuffle=True, random_state=99)\n",
    "    for trainpart_index, eval_index in kf.split(train[features], train['target']):\n",
    "        best_clf.fit(train[features].loc[trainpart_index, :].values, train['target'].loc[trainpart_index].values)\n",
    "        prediction_test += best_clf.predict(test[features].values)\n",
    "        eval_pre = best_clf.predict(train[features].loc[eval_index].values)\n",
    "        score = np.sqrt(mean_squared_error(train['target'].loc[eval_index].values, eval_pre))\n",
    "        cv_score.append(score)\n",
    "        print(score)\n",
    "        prediction_train = prediction_train.append(pd.Series(eval_pre, index = eval_index))\n",
    "    print('Cross Validation Score:', cv_score, sum(cv_score)/5)\n",
    "    pd.Series(prediction_train.sort_index().values).to_csv('train_rfcv.csv', index = False)\n",
    "    pd.Series(prediction_test/5).to_csv('test_rfcv.csv', index = False)\n",
    "    test['target'] = prediction_test / 5\n",
    "    test[['card_id', 'target']].to_csv('submission_rfcv.csv', index = False)\n",
    "    return"
   ]
  },
  {
   "cell_type": "code",
   "execution_count": 91,
   "metadata": {},
   "outputs": [
    {
     "name": "stderr",
     "output_type": "stream",
     "text": [
      "/var/folders/3v/m7ykfptx4bn621t68jmzkl580000gn/T/ipykernel_41092/1817314060.py:9: FutureWarning: The default dtype for empty Series will be 'object' instead of 'float64' in a future version. Specify a dtype explicitly to silence this warning.\n",
      "  prediction_train = pd.Series()\n"
     ]
    },
    {
     "name": "stdout",
     "output_type": "stream",
     "text": [
      "3.7731514580135204\n"
     ]
    },
    {
     "name": "stderr",
     "output_type": "stream",
     "text": [
      "/var/folders/3v/m7ykfptx4bn621t68jmzkl580000gn/T/ipykernel_41092/1817314060.py:19: FutureWarning: The series.append method is deprecated and will be removed from pandas in a future version. Use pandas.concat instead.\n",
      "  prediction_train = prediction_train.append(pd.Series(eval_pre, index = eval_index))\n"
     ]
    },
    {
     "name": "stdout",
     "output_type": "stream",
     "text": [
      "3.7035716935676892\n"
     ]
    },
    {
     "name": "stderr",
     "output_type": "stream",
     "text": [
      "/var/folders/3v/m7ykfptx4bn621t68jmzkl580000gn/T/ipykernel_41092/1817314060.py:19: FutureWarning: The series.append method is deprecated and will be removed from pandas in a future version. Use pandas.concat instead.\n",
      "  prediction_train = prediction_train.append(pd.Series(eval_pre, index = eval_index))\n"
     ]
    },
    {
     "name": "stdout",
     "output_type": "stream",
     "text": [
      "3.6928186230659175\n"
     ]
    },
    {
     "name": "stderr",
     "output_type": "stream",
     "text": [
      "/var/folders/3v/m7ykfptx4bn621t68jmzkl580000gn/T/ipykernel_41092/1817314060.py:19: FutureWarning: The series.append method is deprecated and will be removed from pandas in a future version. Use pandas.concat instead.\n",
      "  prediction_train = prediction_train.append(pd.Series(eval_pre, index = eval_index))\n"
     ]
    },
    {
     "name": "stdout",
     "output_type": "stream",
     "text": [
      "3.6526261960954924\n"
     ]
    },
    {
     "name": "stderr",
     "output_type": "stream",
     "text": [
      "/var/folders/3v/m7ykfptx4bn621t68jmzkl580000gn/T/ipykernel_41092/1817314060.py:19: FutureWarning: The series.append method is deprecated and will be removed from pandas in a future version. Use pandas.concat instead.\n",
      "  prediction_train = prediction_train.append(pd.Series(eval_pre, index = eval_index))\n"
     ]
    },
    {
     "name": "stdout",
     "output_type": "stream",
     "text": [
      "3.6790649221121416\n",
      "Cross Validation Score: [3.7731514580135204, 3.7035716935676892, 3.6928186230659175, 3.6526261960954924, 3.6790649221121416] 3.700246578570952\n"
     ]
    },
    {
     "name": "stderr",
     "output_type": "stream",
     "text": [
      "/var/folders/3v/m7ykfptx4bn621t68jmzkl580000gn/T/ipykernel_41092/1817314060.py:19: FutureWarning: The series.append method is deprecated and will be removed from pandas in a future version. Use pandas.concat instead.\n",
      "  prediction_train = prediction_train.append(pd.Series(eval_pre, index = eval_index))\n",
      "/var/folders/3v/m7ykfptx4bn621t68jmzkl580000gn/T/ipykernel_41092/1817314060.py:23: SettingWithCopyWarning: \n",
      "A value is trying to be set on a copy of a slice from a DataFrame.\n",
      "Try using .loc[row_indexer,col_indexer] = value instead\n",
      "\n",
      "See the caveats in the documentation: https://pandas.pydata.org/pandas-docs/stable/user_guide/indexing.html#returning-a-view-versus-a-copy\n",
      "  test['target'] = prediction_test / 5\n"
     ]
    }
   ],
   "source": [
    "train_predict(train_RF, test_RF, grid.best_estimator_)"
   ]
  },
  {
   "cell_type": "code",
   "execution_count": 103,
   "metadata": {},
   "outputs": [],
   "source": [
    "def train_predict(train, test, best_clf):\n",
    "    features = train.columns.tolist()\n",
    "    features.remove('card_id')\n",
    "    features. remove('target')\n",
    "    \n",
    "    prediction_test = 0\n",
    "    cv_score = []\n",
    "    prediction_train = pd.Series()\n",
    "    \n",
    "    kf = KFold(n_splits=5, shuffle=True, random_state=80)\n",
    "    for n,(trainpart_index, eval_index) in enumerate(kf.split(train[features], train['target'])):\n",
    "        \n",
    "        best_clf.fit(train[features].loc[trainpart_index, :].values, train['target'].loc[trainpart_index].values)\n",
    "        \n",
    "        n_pred = best_clf.predict(test[features].values)\n",
    "        prediction_test += n_pred\n",
    "        prediction = pd.DataFrame()\n",
    "        prediction['card_id'] = test['card_id']\n",
    "        prediction['target'] = n_pred\n",
    "        prediction.to_csv(f'submission_rfcv{n+1}.csv', index = False)\n",
    "        \n",
    "        eval_pre = best_clf.predict(train[features].loc[eval_index].values)\n",
    "        score = np.sqrt(mean_squared_error(train['target'].loc[eval_index].values, eval_pre))\n",
    "        cv_score.append(score)\n",
    "        print(f'{n+1}th CV Score:',score)\n",
    "        \n",
    "        prediction_train = prediction_train.append(pd.Series(eval_pre, index = eval_index))\n",
    "    print('Avg Cross Validation Score:', sum(cv_score)/5)\n",
    "    pd.Series(prediction_train.sort_index().values).to_csv('train_rfcv.csv', index = False)\n",
    "    pd.Series(prediction_test/5).to_csv('test_rfcv.csv', index = False)\n",
    "    test['target'] = prediction_test / 5\n",
    "    test[['card_id', 'target']].to_csv('submission_rfcv.csv', index = False)\n",
    "    return"
   ]
  },
  {
   "cell_type": "code",
   "execution_count": 104,
   "metadata": {},
   "outputs": [
    {
     "name": "stderr",
     "output_type": "stream",
     "text": [
      "/var/folders/3v/m7ykfptx4bn621t68jmzkl580000gn/T/ipykernel_41092/2819986856.py:8: FutureWarning: The default dtype for empty Series will be 'object' instead of 'float64' in a future version. Specify a dtype explicitly to silence this warning.\n",
      "  prediction_train = pd.Series()\n"
     ]
    },
    {
     "name": "stdout",
     "output_type": "stream",
     "text": [
      "1th CV Score: 3.7998406726112357\n"
     ]
    },
    {
     "name": "stderr",
     "output_type": "stream",
     "text": [
      "/var/folders/3v/m7ykfptx4bn621t68jmzkl580000gn/T/ipykernel_41092/2819986856.py:27: FutureWarning: The series.append method is deprecated and will be removed from pandas in a future version. Use pandas.concat instead.\n",
      "  prediction_train = prediction_train.append(pd.Series(eval_pre, index = eval_index))\n"
     ]
    },
    {
     "name": "stdout",
     "output_type": "stream",
     "text": [
      "2th CV Score: 3.685710340030291\n"
     ]
    },
    {
     "name": "stderr",
     "output_type": "stream",
     "text": [
      "/var/folders/3v/m7ykfptx4bn621t68jmzkl580000gn/T/ipykernel_41092/2819986856.py:27: FutureWarning: The series.append method is deprecated and will be removed from pandas in a future version. Use pandas.concat instead.\n",
      "  prediction_train = prediction_train.append(pd.Series(eval_pre, index = eval_index))\n"
     ]
    },
    {
     "name": "stdout",
     "output_type": "stream",
     "text": [
      "3th CV Score: 3.6978358698995\n"
     ]
    },
    {
     "name": "stderr",
     "output_type": "stream",
     "text": [
      "/var/folders/3v/m7ykfptx4bn621t68jmzkl580000gn/T/ipykernel_41092/2819986856.py:27: FutureWarning: The series.append method is deprecated and will be removed from pandas in a future version. Use pandas.concat instead.\n",
      "  prediction_train = prediction_train.append(pd.Series(eval_pre, index = eval_index))\n"
     ]
    },
    {
     "name": "stdout",
     "output_type": "stream",
     "text": [
      "4th CV Score: 3.7068824764808483\n"
     ]
    },
    {
     "name": "stderr",
     "output_type": "stream",
     "text": [
      "/var/folders/3v/m7ykfptx4bn621t68jmzkl580000gn/T/ipykernel_41092/2819986856.py:27: FutureWarning: The series.append method is deprecated and will be removed from pandas in a future version. Use pandas.concat instead.\n",
      "  prediction_train = prediction_train.append(pd.Series(eval_pre, index = eval_index))\n"
     ]
    },
    {
     "name": "stdout",
     "output_type": "stream",
     "text": [
      "5th CV Score: 3.607230665601487\n",
      "Avg Cross Validation Score: 3.699500004924672\n"
     ]
    },
    {
     "name": "stderr",
     "output_type": "stream",
     "text": [
      "/var/folders/3v/m7ykfptx4bn621t68jmzkl580000gn/T/ipykernel_41092/2819986856.py:27: FutureWarning: The series.append method is deprecated and will be removed from pandas in a future version. Use pandas.concat instead.\n",
      "  prediction_train = prediction_train.append(pd.Series(eval_pre, index = eval_index))\n",
      "/var/folders/3v/m7ykfptx4bn621t68jmzkl580000gn/T/ipykernel_41092/2819986856.py:31: SettingWithCopyWarning: \n",
      "A value is trying to be set on a copy of a slice from a DataFrame.\n",
      "Try using .loc[row_indexer,col_indexer] = value instead\n",
      "\n",
      "See the caveats in the documentation: https://pandas.pydata.org/pandas-docs/stable/user_guide/indexing.html#returning-a-view-versus-a-copy\n",
      "  test['target'] = prediction_test / 5\n"
     ]
    }
   ],
   "source": [
    "train_predict(train_RF, test_RF, grid.best_estimator_)"
   ]
  },
  {
   "cell_type": "code",
   "execution_count": null,
   "metadata": {},
   "outputs": [],
   "source": []
  }
 ],
 "metadata": {
  "kernelspec": {
   "display_name": "Python 3 (ipykernel)",
   "language": "python",
   "name": "python3"
  },
  "language_info": {
   "codemirror_mode": {
    "name": "ipython",
    "version": 3
   },
   "file_extension": ".py",
   "mimetype": "text/x-python",
   "name": "python",
   "nbconvert_exporter": "python",
   "pygments_lexer": "ipython3",
   "version": "3.10.9"
  }
 },
 "nbformat": 4,
 "nbformat_minor": 4
}
