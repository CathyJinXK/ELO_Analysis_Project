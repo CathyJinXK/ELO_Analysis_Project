{
 "cells": [
  {
   "cell_type": "code",
   "execution_count": 1,
   "metadata": {},
   "outputs": [],
   "source": [
    "import pandas as pd\n",
    "import numpy as np\n",
    "from sklearn.model_selection import RepeatedKFold"
   ]
  },
  {
   "cell_type": "code",
   "execution_count": 2,
   "metadata": {},
   "outputs": [],
   "source": [
    "train_lgbm = pd.read_csv('train_lgbmcv.csv')\n",
    "train_rfcv = pd.read_csv('train_rfcv.csv')\n",
    "train = pd.read_csv('train.csv')"
   ]
  },
  {
   "cell_type": "code",
   "execution_count": 4,
   "metadata": {},
   "outputs": [],
   "source": [
    "train = train[['card_id', 'target']]"
   ]
  },
  {
   "cell_type": "code",
   "execution_count": 7,
   "metadata": {},
   "outputs": [],
   "source": [
    "predictions_rfcv = pd.read_csv('test_rfcv.csv')\n",
    "predictions_lgbm = pd.read_csv('test_lgbmcv.csv')"
   ]
  },
  {
   "cell_type": "code",
   "execution_count": 15,
   "metadata": {},
   "outputs": [
    {
     "data": {
      "text/plain": [
       "((201917, 1), (201917, 1), (201917, 2), (123623, 1), (123623, 1))"
      ]
     },
     "execution_count": 15,
     "metadata": {},
     "output_type": "execute_result"
    }
   ],
   "source": [
    "train_lgbm.shape, train_rfcv.shape, train.shape, predictions_lgbm.shape, predictions_rfcv.shape"
   ]
  },
  {
   "cell_type": "code",
   "execution_count": 19,
   "metadata": {},
   "outputs": [],
   "source": [
    "def stack_model(oof_list, prediction_list, y):\n",
    "    \n",
    "    train_stack = np.hstack(oof_list)\n",
    "    test_stack = np.hstack(prediction_list)\n",
    "    \n",
    "    oof = np.zeros(train_stack.shape[0])\n",
    "    predictions = np.zeros(test_stack.shape[0])\n",
    "    \n",
    "    from sklearn.model_selection import RepeatedKFold\n",
    "    folds = RepeatedKFold(n_splits=5, n_repeats=2, random_state=99)\n",
    "    \n",
    "    for n, (trn_idx, val_idx) in enumerate(folds.split(train_stack, y)):\n",
    "        \n",
    "        print(f'Fold No{n+1}')\n",
    "        \n",
    "        trn_data, trn_y = train_stack[trn_idx], y[trn_idx]\n",
    "        val_data, val_y = train_stack[val_idx], y[val_idx]\n",
    "        \n",
    "        print('-'*10 + 'Stacking' +'-'*10)\n",
    "        \n",
    "        from sklearn.linear_model import BayesianRidge\n",
    "        clf = BayesianRidge()\n",
    "        clf.fit(trn_data, trn_y)\n",
    "        oof[val_idx] = clf.predict(val_data)\n",
    "        predictions += clf.predict(test_stack)/(5*2)\n",
    "        \n",
    "    return predictions"
   ]
  },
  {
   "cell_type": "code",
   "execution_count": 13,
   "metadata": {},
   "outputs": [],
   "source": [
    "target = train['target'].values"
   ]
  },
  {
   "cell_type": "code",
   "execution_count": 16,
   "metadata": {},
   "outputs": [
    {
     "data": {
      "text/plain": [
       "(201917,)"
      ]
     },
     "execution_count": 16,
     "metadata": {},
     "output_type": "execute_result"
    }
   ],
   "source": [
    "target.shape"
   ]
  },
  {
   "cell_type": "code",
   "execution_count": 20,
   "metadata": {},
   "outputs": [
    {
     "name": "stdout",
     "output_type": "stream",
     "text": [
      "Fold No1\n",
      "----------Stacking----------\n",
      "Fold No2\n",
      "----------Stacking----------\n",
      "Fold No3\n",
      "----------Stacking----------\n",
      "Fold No4\n",
      "----------Stacking----------\n",
      "Fold No5\n",
      "----------Stacking----------\n",
      "Fold No6\n",
      "----------Stacking----------\n",
      "Fold No7\n",
      "----------Stacking----------\n",
      "Fold No8\n",
      "----------Stacking----------\n",
      "Fold No9\n",
      "----------Stacking----------\n",
      "Fold No10\n",
      "----------Stacking----------\n"
     ]
    }
   ],
   "source": [
    "predistion_stack = stack_model([train_rfcv, train_lgbm],[predictions_rfcv, predictions_lgbm], target)"
   ]
  },
  {
   "cell_type": "code",
   "execution_count": 21,
   "metadata": {},
   "outputs": [
    {
     "data": {
      "text/plain": [
       "(123623,)"
      ]
     },
     "execution_count": 21,
     "metadata": {},
     "output_type": "execute_result"
    }
   ],
   "source": [
    "predistion_stack.shape"
   ]
  },
  {
   "cell_type": "code",
   "execution_count": 22,
   "metadata": {},
   "outputs": [],
   "source": [
    "test_stack = pd.read_csv('submission_rfcv5.csv')"
   ]
  },
  {
   "cell_type": "code",
   "execution_count": 23,
   "metadata": {},
   "outputs": [],
   "source": [
    "test_stack['target'] = predistion_stack"
   ]
  },
  {
   "cell_type": "code",
   "execution_count": 25,
   "metadata": {},
   "outputs": [],
   "source": [
    "test_stack.to_csv('submission_stacking.csv', index = False)"
   ]
  },
  {
   "cell_type": "code",
   "execution_count": null,
   "metadata": {},
   "outputs": [],
   "source": []
  }
 ],
 "metadata": {
  "kernelspec": {
   "display_name": "Python 3",
   "language": "python",
   "name": "python3"
  },
  "language_info": {
   "codemirror_mode": {
    "name": "ipython",
    "version": 3
   },
   "file_extension": ".py",
   "mimetype": "text/x-python",
   "name": "python",
   "nbconvert_exporter": "python",
   "pygments_lexer": "ipython3",
   "version": "3.7.0"
  }
 },
 "nbformat": 4,
 "nbformat_minor": 5
}
